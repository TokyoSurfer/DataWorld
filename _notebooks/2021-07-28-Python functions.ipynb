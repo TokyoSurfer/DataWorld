{
 "cells": [
  {
   "cell_type": "markdown",
   "id": "18a56f97",
   "metadata": {},
   "source": [
    "# Writing functions in Python\n",
    "> A tutorial on how to write functions in Python\n",
    "\n",
    "- toc: true \n",
    "- badges: true\n",
    "- comments: true\n",
    "- author: Kai Lewis\n",
    "- categories: [jupyter, functions, lambda functions, error handling]"
   ]
  },
  {
   "cell_type": "markdown",
   "id": "bc56d91c",
   "metadata": {},
   "source": [
    "# Introduction to functions\n",
    "\n",
    "A function is a group of code that only runs when it is called. They are a common feature of all programming languages as they allow the developer to write blocks of code that perform specific tasks. Furthermore, they reduce repitition in code as the same block of code within a function may be executed over and over.\n",
    "\n",
    "In Python, a function is defined using the *def* keyword. Arguments represent information which can be passed to the function. Any number of arguments may be added to a function, however, when that function is called, the user must define the arguments if they don't contain default values."
   ]
  },
  {
   "cell_type": "markdown",
   "id": "18ad71ed",
   "metadata": {},
   "source": [
    "# Simple functions\n",
    "## No argument"
   ]
  },
  {
   "cell_type": "code",
   "execution_count": 2,
   "id": "b849b7f4",
   "metadata": {},
   "outputs": [
    {
     "name": "stdout",
     "output_type": "stream",
     "text": [
      "Hello!\n"
     ]
    }
   ],
   "source": [
    "def say_hello():\n",
    "    print(\"Hello!\")\n",
    "    \n",
    "say_hello()"
   ]
  },
  {
   "cell_type": "markdown",
   "id": "71e69fd4",
   "metadata": {},
   "source": [
    "## One argument"
   ]
  },
  {
   "cell_type": "code",
   "execution_count": 9,
   "id": "5df89c4a",
   "metadata": {},
   "outputs": [
    {
     "name": "stdout",
     "output_type": "stream",
     "text": [
      "Hello Kai!\n"
     ]
    }
   ],
   "source": [
    "def say_hello(name):\n",
    "    print(f\"Hello {name}!\")\n",
    "    \n",
    "say_hello(\"Kai\")"
   ]
  },
  {
   "cell_type": "markdown",
   "id": "9f5019be",
   "metadata": {},
   "source": [
    "## Default argument"
   ]
  },
  {
   "cell_type": "code",
   "execution_count": 10,
   "id": "73317bd2",
   "metadata": {},
   "outputs": [
    {
     "name": "stdout",
     "output_type": "stream",
     "text": [
      "Hello Kai!\n"
     ]
    }
   ],
   "source": [
    "def say_hello(name = \"Kai\"):\n",
    "    print(f\"Hello {name}!\")\n",
    "    \n",
    "say_hello()"
   ]
  },
  {
   "cell_type": "markdown",
   "id": "33513a74",
   "metadata": {},
   "source": [
    "## Multiple arguments"
   ]
  },
  {
   "cell_type": "code",
   "execution_count": 11,
   "id": "8b1b62be",
   "metadata": {},
   "outputs": [
    {
     "name": "stdout",
     "output_type": "stream",
     "text": [
      "Hello my name is Kai and I'm 27 years old!\n"
     ]
    }
   ],
   "source": [
    "def say_hello(name, age):\n",
    "    print(f\"Hello my name is {name} and I'm {age} years old!\")\n",
    "    \n",
    "say_hello(\"Kai\", 27)"
   ]
  },
  {
   "cell_type": "markdown",
   "id": "e968f8c0",
   "metadata": {},
   "source": [
    "## Return values\n",
    "\n",
    "Instead of printing an output, we can return values using the *return* statement at the end of a function"
   ]
  },
  {
   "cell_type": "code",
   "execution_count": 12,
   "id": "2615bca5",
   "metadata": {},
   "outputs": [
    {
     "data": {
      "text/plain": [
       "16"
      ]
     },
     "execution_count": 12,
     "metadata": {},
     "output_type": "execute_result"
    }
   ],
   "source": [
    "def raise_to_power(value1, value2):\n",
    "    \"\"\"Raise value1 to the power of value2.\"\"\"\n",
    "    new_value = value1 ** value2\n",
    "    return new_value\n",
    "\n",
    "raise_to_power(2,4)"
   ]
  },
  {
   "cell_type": "markdown",
   "id": "8bfa42fc",
   "metadata": {},
   "source": [
    "# Scope\n",
    "\n",
    "A variable is only available from inside the region it is created, this is referred to as **scope**. There are several differnt types which can be abbreviated to the **LEGB rule**, which stands for *Local, Enclosing, Global and Built-in*.\n",
    "\n",
    "- **Local** (or function) scope is the code block or body of any Python function or lambda expression. This Python scope contains the names that you define inside the function. These names will only be visible from the code of the function. It’s created at function call, not at function definition, so you’ll have as many different local scopes as function calls. This is true even if you call the same function multiple times, or recursively. Each call will result in a new local scope being created.\n",
    "\n",
    "- **Enclosing** (or nonlocal) scope is a special scope that only exists for nested functions. If the local scope is an inner or nested function, then the enclosing scope is the scope of the outer or enclosing function. This scope contains the names that you define in the enclosing function. The names in the enclosing scope are visible from the code of the inner and enclosing functions.\n",
    "\n",
    "- **Global** (or module) scope is the top-most scope in a Python program, script, or module. This Python scope contains all of the names that you define at the top level of a program or a module. Names in this Python scope are visible from everywhere in your code.\n",
    "\n",
    "- **Built-in** scope is a special Python scope that’s created or loaded whenever you run a script or open an interactive session. This scope contains names such as keywords, functions, exceptions, and other attributes that are built into Python. Names in this Python scope are also available from everywhere in your code. It’s automatically loaded by Python when you run a program or script.\n",
    "\n",
    "## Local scope\n",
    "\n",
    "A variable created inside a function belongs to the *local scope* of that function, and can only be used inside that function."
   ]
  },
  {
   "cell_type": "code",
   "execution_count": 19,
   "id": "33b5f0d8",
   "metadata": {},
   "outputs": [
    {
     "name": "stdout",
     "output_type": "stream",
     "text": [
      "300\n",
      "200\n"
     ]
    }
   ],
   "source": [
    "def print_number(value = 10):\n",
    "    x = 300\n",
    "    new_value = x * value\n",
    "    print(new_value)\n",
    "    \n",
    "print_number(1)\n",
    "\n",
    "print(x)"
   ]
  },
  {
   "cell_type": "markdown",
   "id": "fc37cebd",
   "metadata": {},
   "source": [
    "## Global scope\n",
    "\n",
    "A variable created in the main body of a Python script belongs to the *global scope*. Global variables are available within any scope, global and local."
   ]
  },
  {
   "cell_type": "code",
   "execution_count": 20,
   "id": "ee8e229c",
   "metadata": {},
   "outputs": [
    {
     "name": "stdout",
     "output_type": "stream",
     "text": [
      "300\n",
      "300\n"
     ]
    }
   ],
   "source": [
    "x = 300\n",
    "\n",
    "def print_number(value = 10):\n",
    "    new_value = x * value\n",
    "    print(new_value)\n",
    "    \n",
    "print_number(1)\n",
    "\n",
    "print(x)"
   ]
  },
  {
   "cell_type": "markdown",
   "id": "2f70c220",
   "metadata": {},
   "source": [
    "## Naming variables\n",
    "\n",
    "If you operate with the same variable name both within and outside a function, Python will treat them as separate variables. One is in the global scope, and the other in the local scope."
   ]
  },
  {
   "cell_type": "code",
   "execution_count": 3,
   "id": "a5c40099",
   "metadata": {},
   "outputs": [
    {
     "name": "stdout",
     "output_type": "stream",
     "text": [
      "200\n",
      "300\n"
     ]
    }
   ],
   "source": [
    "x = 300\n",
    "\n",
    "def print_number(value = 10):\n",
    "    x = 200\n",
    "    new_value = x * value\n",
    "    print(new_value)\n",
    "    \n",
    "print_number(1)\n",
    "\n",
    "print(x)"
   ]
  },
  {
   "cell_type": "markdown",
   "id": "25fe69dc",
   "metadata": {},
   "source": [
    "## Global keyword\n",
    "\n",
    "If you need to create a global variable, but are within the local scope of a function, you may use the *global* keyword."
   ]
  },
  {
   "cell_type": "code",
   "execution_count": 5,
   "id": "2d8a872a",
   "metadata": {},
   "outputs": [
    {
     "name": "stdout",
     "output_type": "stream",
     "text": [
      "200\n",
      "200\n"
     ]
    }
   ],
   "source": [
    "def print_number(value = 10):\n",
    "    global x\n",
    "    x = 200\n",
    "    new_value = x * value\n",
    "    print(new_value)\n",
    "    \n",
    "print_number(1)\n",
    "\n",
    "print(x)"
   ]
  },
  {
   "cell_type": "markdown",
   "id": "b24754b9",
   "metadata": {},
   "source": [
    "## Nonlocal keyword\n",
    "\n",
    "Similar to the *global* keyword, the *nonlocal* keyword can be used to access nonlocal variables from enclosing functions and updated. The nonlocal statement consists of the nonlocal keyword followed by one or more names separated by commas. These names will refer to the same names in the enclosing Python scope. "
   ]
  },
  {
   "cell_type": "code",
   "execution_count": 11,
   "id": "38917346",
   "metadata": {},
   "outputs": [
    {
     "name": "stdout",
     "output_type": "stream",
     "text": [
      "200\n"
     ]
    }
   ],
   "source": [
    "# Define nonlocal_func\n",
    "def nonlocal_func():\n",
    "    \"\"\"Prints the value of var\"\"\"\n",
    "    \n",
    "    # Define var\n",
    "    var = 100\n",
    "    \n",
    "    # Define inner_func\n",
    "    def inner_func():\n",
    "        \"\"\"Print s var incremented by 100\"\"\"\n",
    "        nonlocal var\n",
    "        var += 100\n",
    "        \n",
    "    inner_func()\n",
    "    print(var)\n",
    "\n",
    "# Call nonlocal_func\n",
    "nonlocal_func()\n",
    "        "
   ]
  },
  {
   "cell_type": "markdown",
   "id": "7bbf9069",
   "metadata": {},
   "source": [
    "The *nonlocal* keyword tells Python that you'll be modifying *var* inside the *inner_func* function. This change is reflected in the printed value, which was originally 100, but is now 200."
   ]
  },
  {
   "cell_type": "markdown",
   "id": "9db7f7d4",
   "metadata": {},
   "source": [
    "# Nested functions\n",
    "\n",
    "Sometimes it's necessary to nest functions within functions. This is helpful when youw want to avoid writing out the same computations within a function repeatedly. There's nothing new with nested functions, you simply embed one inside the other. "
   ]
  },
  {
   "cell_type": "code",
   "execution_count": 9,
   "id": "997e06cf",
   "metadata": {},
   "outputs": [
    {
     "name": "stdout",
     "output_type": "stream",
     "text": [
      "('One!!!', 'Two!!!', 'Three!!!')\n"
     ]
    }
   ],
   "source": [
    "# Define shouting\n",
    "def shouting(word1, word2, word3):\n",
    "    \"\"\"Returns a tuple of strings concatenated with '!!!'.\"\"\"\n",
    "\n",
    "    # Define inner\n",
    "    def inner(word):\n",
    "        \"\"\"Returns a string concatenated with '!!!'.\"\"\"\n",
    "        return word + '!!!'\n",
    "\n",
    "    # Return a tuple of strings\n",
    "    return (inner(word1), inner(word2), inner(word3))\n",
    "\n",
    "# Call three_shouts() and print\n",
    "print(shouting('One', 'Two', 'Three'))"
   ]
  },
  {
   "cell_type": "markdown",
   "id": "25ed2779",
   "metadata": {},
   "source": [
    "Another reason for nesting function is the idea of **closure**. This means that the nested or inner function remembers the state of its enclosing scope when called. Thus, anything defined locally in the enclosing scope is available to the inner function even when the outer function has finished execution."
   ]
  },
  {
   "cell_type": "code",
   "execution_count": 10,
   "id": "cc1a1379",
   "metadata": {},
   "outputs": [
    {
     "name": "stdout",
     "output_type": "stream",
     "text": [
      "hellohello hellohellohello\n"
     ]
    }
   ],
   "source": [
    "# Define echo\n",
    "def echo(n):\n",
    "    \"\"\"Returns the inner_echo function.\"\"\"\n",
    "\n",
    "    # Define inner_echo\n",
    "    def inner_echo(word1):\n",
    "        \"\"\"Concatenate n copies of word1.\"\"\"\n",
    "        echo_word = word1 * n\n",
    "        return echo_word\n",
    "\n",
    "    # Return inner_echo\n",
    "    return(inner_echo)\n",
    "\n",
    "# Call echo: twice\n",
    "twice = echo(2)\n",
    "\n",
    "# Call echo: thrice\n",
    "thrice = echo(3)\n",
    "\n",
    "# Call twice() and thrice() then print\n",
    "print(twice('hello'), thrice('hello'))"
   ]
  },
  {
   "cell_type": "markdown",
   "id": "056bb34f",
   "metadata": {},
   "source": [
    "# Functions with variable-length arguments\n",
    "\n",
    "Flexible arguments allow you to pass a variable number of arguments to a function. \n",
    "\n",
    "There are two special symbols:\n",
    "\n",
    "- **\\*args** (Non-Keyworded arguments)\n",
    "- **\\*\\*kwargs** (Keyworded arguments)\n",
    "\n",
    "## \\*args\n",
    "\n",
    "This is used to pass non-key worded, variable-length argument lists to a function. What \\*args allows you to do is take in more arguments than the number of formal arguments that you previously defined. With \\*args, any number of extra arguments can be tacked on to your current formal parameters (including zero extra arguments)."
   ]
  },
  {
   "cell_type": "code",
   "execution_count": 18,
   "id": "14ea57c0",
   "metadata": {},
   "outputs": [
    {
     "name": "stdout",
     "output_type": "stream",
     "text": [
      "First argument : Hello\n",
      "Next argument through *argv : My\n",
      "Next argument through *argv : Name\n",
      "Next argument through *argv : Is\n",
      "Next argument through *argv : Kai\n"
     ]
    }
   ],
   "source": [
    "# *args with first extra argument\n",
    "def function1(arg1, *argv):\n",
    "    print (\"First argument :\", arg1)\n",
    "    for arg in argv:\n",
    "        print(\"Next argument through *argv :\", arg)\n",
    "        \n",
    "# Call function1\n",
    "function1('Hello', 'My', 'Name', 'Is', 'Kai')"
   ]
  },
  {
   "cell_type": "markdown",
   "id": "1d3c0f4f",
   "metadata": {},
   "source": [
    "## \\*\\*kwargs\n",
    "\n",
    "This is used to pass key worded, variable-length argument lists to a function. One can think of the kwargs as being a dictionary that maps each keyword to the value that we pass alongside it. That is why when we iterate over the kwargs there doesn’t seem to be any order in which they were printed out."
   ]
  },
  {
   "cell_type": "code",
   "execution_count": 16,
   "id": "3f56bbc9",
   "metadata": {},
   "outputs": [
    {
     "name": "stdout",
     "output_type": "stream",
     "text": [
      "first == Hello\n",
      "second == My\n",
      "third == Name\n",
      "fourth == Is\n",
      "fifth == Kai\n"
     ]
    }
   ],
   "source": [
    "# *kargs for variable number of keyword arguments\n",
    " \n",
    "def function2(**kwargs):\n",
    "    for key, value in kwargs.items():\n",
    "        print (\"%s == %s\" %(key, value))\n",
    "\n",
    "# Call function2\n",
    "function2(first ='Hello', second ='My', third ='Name', fourth = 'Is', fifth = 'Kai')   "
   ]
  },
  {
   "cell_type": "markdown",
   "id": "737ca74c",
   "metadata": {},
   "source": [
    "# Lambda functions\n",
    "\n",
    "These are little, anonymous functions, subject to a more restrictive but concise syntax than regular Python functions."
   ]
  },
  {
   "cell_type": "code",
   "execution_count": 21,
   "id": "0af8ea2f",
   "metadata": {},
   "outputs": [
    {
     "name": "stdout",
     "output_type": "stream",
     "text": [
      "heyheyheyheyhey\n"
     ]
    }
   ],
   "source": [
    "# Define echo_word as a lambda function: echo_word\n",
    "echo_word = (lambda word1, echo: word1 * echo)\n",
    "\n",
    "# Call echo_word: result\n",
    "result = echo_word('hey', 5)\n",
    "\n",
    "# Print result\n",
    "print(result)"
   ]
  },
  {
   "cell_type": "markdown",
   "id": "af2c001f",
   "metadata": {},
   "source": []
  }
 ],
 "metadata": {
  "kernelspec": {
   "display_name": "Python 3",
   "language": "python",
   "name": "python3"
  },
  "language_info": {
   "codemirror_mode": {
    "name": "ipython",
    "version": 3
   },
   "file_extension": ".py",
   "mimetype": "text/x-python",
   "name": "python",
   "nbconvert_exporter": "python",
   "pygments_lexer": "ipython3",
   "version": "3.8.8"
  }
 },
 "nbformat": 4,
 "nbformat_minor": 5
}
