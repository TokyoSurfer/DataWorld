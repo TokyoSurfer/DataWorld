{
 "cells": [
  {
   "cell_type": "markdown",
   "id": "18a56f97",
   "metadata": {},
   "source": [
    "# Writing functions in Python\n",
    "> A tutorial on how to write functions in Python\n",
    "\n",
    "- toc: true \n",
    "- badges: true\n",
    "- comments: true\n",
    "- author: Kai Lewis\n",
    "- categories: [jupyter, functions, lambda functions, error handling]"
   ]
  },
  {
   "cell_type": "markdown",
   "id": "bc56d91c",
   "metadata": {},
   "source": [
    "# Introduction to functions\n",
    "\n",
    "A function is a group of code that only runs when it is called. They are a common feature of all programming languages as they allow the developer to write blocks of code that perform specific tasks. Furthermore, they reduce repitition in code as the same block of code within a function may be executed over and over.\n",
    "\n",
    "In Python, a function is defined using the *def* keyword. Arguments represent information which can be passed to the function. Any number of arguments may be added to a function, however, when that function is called, the user must define the arguments if they don't contain default values."
   ]
  },
  {
   "cell_type": "markdown",
   "id": "18ad71ed",
   "metadata": {},
   "source": [
    "# Simple functions\n",
    "## No argument"
   ]
  },
  {
   "cell_type": "code",
   "execution_count": 2,
   "id": "b849b7f4",
   "metadata": {},
   "outputs": [
    {
     "name": "stdout",
     "output_type": "stream",
     "text": [
      "Hello!\n"
     ]
    }
   ],
   "source": [
    "def say_hello():\n",
    "    print(\"Hello!\")\n",
    "    \n",
    "say_hello()"
   ]
  },
  {
   "cell_type": "markdown",
   "id": "71e69fd4",
   "metadata": {},
   "source": [
    "## One argument"
   ]
  },
  {
   "cell_type": "code",
   "execution_count": 9,
   "id": "5df89c4a",
   "metadata": {},
   "outputs": [
    {
     "name": "stdout",
     "output_type": "stream",
     "text": [
      "Hello Kai!\n"
     ]
    }
   ],
   "source": [
    "def say_hello(name):\n",
    "    print(f\"Hello {name}!\")\n",
    "    \n",
    "say_hello(\"Kai\")"
   ]
  },
  {
   "cell_type": "markdown",
   "id": "9f5019be",
   "metadata": {},
   "source": [
    "## Default argument"
   ]
  },
  {
   "cell_type": "code",
   "execution_count": 10,
   "id": "73317bd2",
   "metadata": {},
   "outputs": [
    {
     "name": "stdout",
     "output_type": "stream",
     "text": [
      "Hello Kai!\n"
     ]
    }
   ],
   "source": [
    "def say_hello(name = \"Kai\"):\n",
    "    print(f\"Hello {name}!\")\n",
    "    \n",
    "say_hello()"
   ]
  },
  {
   "cell_type": "markdown",
   "id": "33513a74",
   "metadata": {},
   "source": [
    "## Multiple arguments"
   ]
  },
  {
   "cell_type": "code",
   "execution_count": 11,
   "id": "8b1b62be",
   "metadata": {},
   "outputs": [
    {
     "name": "stdout",
     "output_type": "stream",
     "text": [
      "Hello my name is Kai and I'm 27 years old!\n"
     ]
    }
   ],
   "source": [
    "def say_hello(name, age):\n",
    "    print(f\"Hello my name is {name} and I'm {age} years old!\")\n",
    "    \n",
    "say_hello(\"Kai\", 27)"
   ]
  },
  {
   "cell_type": "markdown",
   "id": "e968f8c0",
   "metadata": {},
   "source": [
    "## Return values\n",
    "\n",
    "Instead of printing an output, we can return values using the *return* statement at the end of a function"
   ]
  },
  {
   "cell_type": "code",
   "execution_count": 12,
   "id": "2615bca5",
   "metadata": {},
   "outputs": [
    {
     "data": {
      "text/plain": [
       "16"
      ]
     },
     "execution_count": 12,
     "metadata": {},
     "output_type": "execute_result"
    }
   ],
   "source": [
    "def raise_to_power(value1, value2):\n",
    "    \"\"\"Raise value1 to the power of value2.\"\"\"\n",
    "    new_value = value1 ** value2\n",
    "    return new_value\n",
    "\n",
    "raise_to_power(2,4)"
   ]
  },
  {
   "cell_type": "markdown",
   "id": "8bfa42fc",
   "metadata": {},
   "source": [
    "# Scope\n",
    "\n",
    "A variable is only available from inside the region it is created, this is referred to as **scope**. There are several differnt types which can be abbreviated to the **LEGB rule**, which stands for *Local, Enclosing, Global and Built-in*.\n",
    "\n",
    "- **Local** (or function) scope is the code block or body of any Python function or lambda expression. This Python scope contains the names that you define inside the function. These names will only be visible from the code of the function. It’s created at function call, not at function definition, so you’ll have as many different local scopes as function calls. This is true even if you call the same function multiple times, or recursively. Each call will result in a new local scope being created.\n",
    "\n",
    "- **Enclosing** (or nonlocal) scope is a special scope that only exists for nested functions. If the local scope is an inner or nested function, then the enclosing scope is the scope of the outer or enclosing function. This scope contains the names that you define in the enclosing function. The names in the enclosing scope are visible from the code of the inner and enclosing functions.\n",
    "\n",
    "- **Global** (or module) scope is the top-most scope in a Python program, script, or module. This Python scope contains all of the names that you define at the top level of a program or a module. Names in this Python scope are visible from everywhere in your code.\n",
    "\n",
    "- **Built-in** scope is a special Python scope that’s created or loaded whenever you run a script or open an interactive session. This scope contains names such as keywords, functions, exceptions, and other attributes that are built into Python. Names in this Python scope are also available from everywhere in your code. It’s automatically loaded by Python when you run a program or script.\n",
    "\n",
    "## Local scope\n",
    "\n",
    "A variable created inside a function belongs to the *local scope* of that function, and can only be used inside that function."
   ]
  },
  {
   "cell_type": "code",
   "execution_count": 19,
   "id": "33b5f0d8",
   "metadata": {},
   "outputs": [
    {
     "name": "stdout",
     "output_type": "stream",
     "text": [
      "300\n",
      "200\n"
     ]
    }
   ],
   "source": [
    "def print_number(value = 10):\n",
    "    x = 300\n",
    "    new_value = x * value\n",
    "    print(new_value)\n",
    "    \n",
    "print_number(1)\n",
    "\n",
    "print(x)"
   ]
  },
  {
   "cell_type": "markdown",
   "id": "fc37cebd",
   "metadata": {},
   "source": [
    "## Global scope\n",
    "\n",
    "A variable created in the main body of a Python script belongs to the *global scope*. Global variables are available within any scope, global and local."
   ]
  },
  {
   "cell_type": "code",
   "execution_count": 20,
   "id": "ee8e229c",
   "metadata": {},
   "outputs": [
    {
     "name": "stdout",
     "output_type": "stream",
     "text": [
      "300\n",
      "300\n"
     ]
    }
   ],
   "source": [
    "x = 300\n",
    "\n",
    "def print_number(value = 10):\n",
    "    new_value = x * value\n",
    "    print(new_value)\n",
    "    \n",
    "print_number(1)\n",
    "\n",
    "print(x)"
   ]
  },
  {
   "cell_type": "markdown",
   "id": "2f70c220",
   "metadata": {},
   "source": [
    "## Naming variables\n",
    "\n",
    "If you operate with the same variable name both within and outside a function, Python will treat them as separate variables. One is in the global scope, and the other in the local scope."
   ]
  },
  {
   "cell_type": "code",
   "execution_count": 3,
   "id": "a5c40099",
   "metadata": {},
   "outputs": [
    {
     "name": "stdout",
     "output_type": "stream",
     "text": [
      "200\n",
      "300\n"
     ]
    }
   ],
   "source": [
    "x = 300\n",
    "\n",
    "def print_number(value = 10):\n",
    "    x = 200\n",
    "    new_value = x * value\n",
    "    print(new_value)\n",
    "    \n",
    "print_number(1)\n",
    "\n",
    "print(x)"
   ]
  },
  {
   "cell_type": "markdown",
   "id": "25fe69dc",
   "metadata": {},
   "source": [
    "## Global keyword\n",
    "\n",
    "If you need to create a global variable, but are within the local scope of a function, you may use the *global* keyword."
   ]
  },
  {
   "cell_type": "code",
   "execution_count": 5,
   "id": "2d8a872a",
   "metadata": {},
   "outputs": [
    {
     "name": "stdout",
     "output_type": "stream",
     "text": [
      "200\n",
      "200\n"
     ]
    }
   ],
   "source": [
    "def print_number(value = 10):\n",
    "    global x\n",
    "    x = 200\n",
    "    new_value = x * value\n",
    "    print(new_value)\n",
    "    \n",
    "print_number(1)\n",
    "\n",
    "print(x)"
   ]
  },
  {
   "cell_type": "markdown",
   "id": "b24754b9",
   "metadata": {},
   "source": [
    "## Nonlocal keyword\n",
    "\n",
    "Similar to the *global* keyword, the *nonlocal* keyword can be used to access nonlocal variables from enclosing functions and updated. The nonlocal statement consists of the nonlocal keyword followed by one or more names separated by commas. These names will refer to the same names in the enclosing Python scope. "
   ]
  },
  {
   "cell_type": "code",
   "execution_count": 11,
   "id": "38917346",
   "metadata": {},
   "outputs": [
    {
     "name": "stdout",
     "output_type": "stream",
     "text": [
      "200\n"
     ]
    }
   ],
   "source": [
    "# Define nonlocal_func\n",
    "def nonlocal_func():\n",
    "    \"\"\"Prints the value of var\"\"\"\n",
    "    \n",
    "    # Define var\n",
    "    var = 100\n",
    "    \n",
    "    # Define inner_func\n",
    "    def inner_func():\n",
    "        \"\"\"Print s var incremented by 100\"\"\"\n",
    "        nonlocal var\n",
    "        var += 100\n",
    "        \n",
    "    inner_func()\n",
    "    print(var)\n",
    "\n",
    "# Call nonlocal_func\n",
    "nonlocal_func()\n",
    "        "
   ]
  },
  {
   "cell_type": "markdown",
   "id": "7bbf9069",
   "metadata": {},
   "source": [
    "The *nonlocal* keyword tells Python that you'll be modifying *var* inside the *inner_func* function. This change is reflected in the printed value, which was originally 100, but is now 200."
   ]
  },
  {
   "cell_type": "markdown",
   "id": "9db7f7d4",
   "metadata": {},
   "source": [
    "# Nested functions\n",
    "\n",
    "Sometimes it's necessary to nest functions within functions. This is helpful when youw want to avoid writing out the same computations within a function repeatedly. There's nothing new with nested functions, you simply embed one inside the other. "
   ]
  },
  {
   "cell_type": "code",
   "execution_count": 9,
   "id": "997e06cf",
   "metadata": {},
   "outputs": [
    {
     "name": "stdout",
     "output_type": "stream",
     "text": [
      "('One!!!', 'Two!!!', 'Three!!!')\n"
     ]
    }
   ],
   "source": [
    "# Define shouting\n",
    "def shouting(word1, word2, word3):\n",
    "    \"\"\"Returns a tuple of strings concatenated with '!!!'.\"\"\"\n",
    "\n",
    "    # Define inner\n",
    "    def inner(word):\n",
    "        \"\"\"Returns a string concatenated with '!!!'.\"\"\"\n",
    "        return word + '!!!'\n",
    "\n",
    "    # Return a tuple of strings\n",
    "    return (inner(word1), inner(word2), inner(word3))\n",
    "\n",
    "# Call three_shouts() and print\n",
    "print(shouting('One', 'Two', 'Three'))"
   ]
  },
  {
   "cell_type": "markdown",
   "id": "25ed2779",
   "metadata": {},
   "source": [
    "Another reason for nesting function is the idea of **closure**. This means that the nested or inner function remembers the state of its enclosing scope when called. Thus, anything defined locally in the enclosing scope is available to the inner function even when the outer function has finished execution."
   ]
  },
  {
   "cell_type": "code",
   "execution_count": 10,
   "id": "cc1a1379",
   "metadata": {},
   "outputs": [
    {
     "name": "stdout",
     "output_type": "stream",
     "text": [
      "hellohello hellohellohello\n"
     ]
    }
   ],
   "source": [
    "# Define echo\n",
    "def echo(n):\n",
    "    \"\"\"Returns the inner_echo function.\"\"\"\n",
    "\n",
    "    # Define inner_echo\n",
    "    def inner_echo(word1):\n",
    "        \"\"\"Concatenate n copies of word1.\"\"\"\n",
    "        echo_word = word1 * n\n",
    "        return echo_word\n",
    "\n",
    "    # Return inner_echo\n",
    "    return(inner_echo)\n",
    "\n",
    "# Call echo: twice\n",
    "twice = echo(2)\n",
    "\n",
    "# Call echo: thrice\n",
    "thrice = echo(3)\n",
    "\n",
    "# Call twice() and thrice() then print\n",
    "print(twice('hello'), thrice('hello'))"
   ]
  },
  {
   "cell_type": "markdown",
   "id": "056bb34f",
   "metadata": {},
   "source": [
    "# Functions with variable-length arguments\n",
    "\n",
    "Flexible arguments allow you to pass a variable number of arguments to a function. \n",
    "\n",
    "There are two special symbols:\n",
    "\n",
    "- **\\*args** (Non-Keyworded arguments)\n",
    "- **\\*\\*kwargs** (Keyworded arguments)\n",
    "\n",
    "## \\*args\n",
    "\n",
    "This is used to pass non-key worded, variable-length argument lists to a function. What \\*args allows you to do is take in more arguments than the number of formal arguments that you previously defined. With \\*args, any number of extra arguments can be tacked on to your current formal parameters (including zero extra arguments)."
   ]
  },
  {
   "cell_type": "code",
   "execution_count": 18,
   "id": "14ea57c0",
   "metadata": {},
   "outputs": [
    {
     "name": "stdout",
     "output_type": "stream",
     "text": [
      "First argument : Hello\n",
      "Next argument through *argv : My\n",
      "Next argument through *argv : Name\n",
      "Next argument through *argv : Is\n",
      "Next argument through *argv : Kai\n"
     ]
    }
   ],
   "source": [
    "# *args with first extra argument\n",
    "def function1(arg1, *argv):\n",
    "    print (\"First argument :\", arg1)\n",
    "    for arg in argv:\n",
    "        print(\"Next argument through *argv :\", arg)\n",
    "        \n",
    "# Call function1\n",
    "function1('Hello', 'My', 'Name', 'Is', 'Kai')"
   ]
  },
  {
   "cell_type": "markdown",
   "id": "1d3c0f4f",
   "metadata": {},
   "source": [
    "## \\*\\*kwargs\n",
    "\n",
    "This is used to pass key worded, variable-length argument lists to a function. One can think of the kwargs as being a dictionary that maps each keyword to the value that we pass alongside it. That is why when we iterate over the kwargs there doesn’t seem to be any order in which they were printed out."
   ]
  },
  {
   "cell_type": "code",
   "execution_count": 16,
   "id": "3f56bbc9",
   "metadata": {},
   "outputs": [
    {
     "name": "stdout",
     "output_type": "stream",
     "text": [
      "first == Hello\n",
      "second == My\n",
      "third == Name\n",
      "fourth == Is\n",
      "fifth == Kai\n"
     ]
    }
   ],
   "source": [
    "# *kargs for variable number of keyword arguments\n",
    " \n",
    "def function2(**kwargs):\n",
    "    for key, value in kwargs.items():\n",
    "        print (\"%s == %s\" %(key, value))\n",
    "\n",
    "# Call function2\n",
    "function2(first ='Hello', second ='My', third ='Name', fourth = 'Is', fifth = 'Kai')   "
   ]
  },
  {
   "cell_type": "markdown",
   "id": "737ca74c",
   "metadata": {},
   "source": [
    "# Lambda functions\n",
    "\n",
    "These are little, anonymous functions, subject to a more restrictive but concise syntax than regular Python functions."
   ]
  },
  {
   "cell_type": "code",
   "execution_count": 21,
   "id": "0af8ea2f",
   "metadata": {},
   "outputs": [
    {
     "name": "stdout",
     "output_type": "stream",
     "text": [
      "heyheyheyheyhey\n"
     ]
    }
   ],
   "source": [
    "# Define echo_word as a lambda function: echo_word\n",
    "echo_word = (lambda word1, echo: word1 * echo)\n",
    "\n",
    "# Call echo_word: result\n",
    "result = echo_word('hey', 5)\n",
    "\n",
    "# Print result\n",
    "print(result)"
   ]
  },
  {
   "cell_type": "markdown",
   "id": "4c1fe1df",
   "metadata": {},
   "source": [
    "## Map test"
   ]
  },
  {
   "cell_type": "code",
   "execution_count": 1,
   "id": "1c619190",
   "metadata": {},
   "outputs": [
    {
     "data": {
      "text/html": [
       "<div style=\"width:100%;\"><div style=\"position:relative;width:100%;height:0;padding-bottom:60%;\"><span style=\"color:#565656\">Make this Notebook Trusted to load map: File -> Trust Notebook</span><iframe src=\"about:blank\" style=\"position:absolute;width:100%;height:100%;left:0;top:0;border:none !important;\" data-html=%3C%21DOCTYPE%20html%3E%0A%3Chead%3E%20%20%20%20%0A%20%20%20%20%3Cmeta%20http-equiv%3D%22content-type%22%20content%3D%22text/html%3B%20charset%3DUTF-8%22%20/%3E%0A%20%20%20%20%0A%20%20%20%20%20%20%20%20%3Cscript%3E%0A%20%20%20%20%20%20%20%20%20%20%20%20L_NO_TOUCH%20%3D%20false%3B%0A%20%20%20%20%20%20%20%20%20%20%20%20L_DISABLE_3D%20%3D%20false%3B%0A%20%20%20%20%20%20%20%20%3C/script%3E%0A%20%20%20%20%0A%20%20%20%20%3Cstyle%3Ehtml%2C%20body%20%7Bwidth%3A%20100%25%3Bheight%3A%20100%25%3Bmargin%3A%200%3Bpadding%3A%200%3B%7D%3C/style%3E%0A%20%20%20%20%3Cstyle%3E%23map%20%7Bposition%3Aabsolute%3Btop%3A0%3Bbottom%3A0%3Bright%3A0%3Bleft%3A0%3B%7D%3C/style%3E%0A%20%20%20%20%3Cscript%20src%3D%22https%3A//cdn.jsdelivr.net/npm/leaflet%401.6.0/dist/leaflet.js%22%3E%3C/script%3E%0A%20%20%20%20%3Cscript%20src%3D%22https%3A//code.jquery.com/jquery-1.12.4.min.js%22%3E%3C/script%3E%0A%20%20%20%20%3Cscript%20src%3D%22https%3A//maxcdn.bootstrapcdn.com/bootstrap/3.2.0/js/bootstrap.min.js%22%3E%3C/script%3E%0A%20%20%20%20%3Cscript%20src%3D%22https%3A//cdnjs.cloudflare.com/ajax/libs/Leaflet.awesome-markers/2.0.2/leaflet.awesome-markers.js%22%3E%3C/script%3E%0A%20%20%20%20%3Clink%20rel%3D%22stylesheet%22%20href%3D%22https%3A//cdn.jsdelivr.net/npm/leaflet%401.6.0/dist/leaflet.css%22/%3E%0A%20%20%20%20%3Clink%20rel%3D%22stylesheet%22%20href%3D%22https%3A//maxcdn.bootstrapcdn.com/bootstrap/3.2.0/css/bootstrap.min.css%22/%3E%0A%20%20%20%20%3Clink%20rel%3D%22stylesheet%22%20href%3D%22https%3A//maxcdn.bootstrapcdn.com/bootstrap/3.2.0/css/bootstrap-theme.min.css%22/%3E%0A%20%20%20%20%3Clink%20rel%3D%22stylesheet%22%20href%3D%22https%3A//maxcdn.bootstrapcdn.com/font-awesome/4.6.3/css/font-awesome.min.css%22/%3E%0A%20%20%20%20%3Clink%20rel%3D%22stylesheet%22%20href%3D%22https%3A//cdnjs.cloudflare.com/ajax/libs/Leaflet.awesome-markers/2.0.2/leaflet.awesome-markers.css%22/%3E%0A%20%20%20%20%3Clink%20rel%3D%22stylesheet%22%20href%3D%22https%3A//cdn.jsdelivr.net/gh/python-visualization/folium/folium/templates/leaflet.awesome.rotate.min.css%22/%3E%0A%20%20%20%20%0A%20%20%20%20%20%20%20%20%20%20%20%20%3Cmeta%20name%3D%22viewport%22%20content%3D%22width%3Ddevice-width%2C%0A%20%20%20%20%20%20%20%20%20%20%20%20%20%20%20%20initial-scale%3D1.0%2C%20maximum-scale%3D1.0%2C%20user-scalable%3Dno%22%20/%3E%0A%20%20%20%20%20%20%20%20%20%20%20%20%3Cstyle%3E%0A%20%20%20%20%20%20%20%20%20%20%20%20%20%20%20%20%23map_5a9c69efef38418194e1bf069d47f317%20%7B%0A%20%20%20%20%20%20%20%20%20%20%20%20%20%20%20%20%20%20%20%20position%3A%20relative%3B%0A%20%20%20%20%20%20%20%20%20%20%20%20%20%20%20%20%20%20%20%20width%3A%20100.0%25%3B%0A%20%20%20%20%20%20%20%20%20%20%20%20%20%20%20%20%20%20%20%20height%3A%20100.0%25%3B%0A%20%20%20%20%20%20%20%20%20%20%20%20%20%20%20%20%20%20%20%20left%3A%200.0%25%3B%0A%20%20%20%20%20%20%20%20%20%20%20%20%20%20%20%20%20%20%20%20top%3A%200.0%25%3B%0A%20%20%20%20%20%20%20%20%20%20%20%20%20%20%20%20%7D%0A%20%20%20%20%20%20%20%20%20%20%20%20%3C/style%3E%0A%20%20%20%20%20%20%20%20%0A%3C/head%3E%0A%3Cbody%3E%20%20%20%20%0A%20%20%20%20%0A%20%20%20%20%20%20%20%20%20%20%20%20%3Cdiv%20class%3D%22folium-map%22%20id%3D%22map_5a9c69efef38418194e1bf069d47f317%22%20%3E%3C/div%3E%0A%20%20%20%20%20%20%20%20%0A%3C/body%3E%0A%3Cscript%3E%20%20%20%20%0A%20%20%20%20%0A%20%20%20%20%20%20%20%20%20%20%20%20var%20map_5a9c69efef38418194e1bf069d47f317%20%3D%20L.map%28%0A%20%20%20%20%20%20%20%20%20%20%20%20%20%20%20%20%22map_5a9c69efef38418194e1bf069d47f317%22%2C%0A%20%20%20%20%20%20%20%20%20%20%20%20%20%20%20%20%7B%0A%20%20%20%20%20%20%20%20%20%20%20%20%20%20%20%20%20%20%20%20center%3A%20%5B0%2C%200%5D%2C%0A%20%20%20%20%20%20%20%20%20%20%20%20%20%20%20%20%20%20%20%20crs%3A%20L.CRS.EPSG3857%2C%0A%20%20%20%20%20%20%20%20%20%20%20%20%20%20%20%20%20%20%20%20zoom%3A%201%2C%0A%20%20%20%20%20%20%20%20%20%20%20%20%20%20%20%20%20%20%20%20zoomControl%3A%20true%2C%0A%20%20%20%20%20%20%20%20%20%20%20%20%20%20%20%20%20%20%20%20preferCanvas%3A%20false%2C%0A%20%20%20%20%20%20%20%20%20%20%20%20%20%20%20%20%7D%0A%20%20%20%20%20%20%20%20%20%20%20%20%29%3B%0A%0A%20%20%20%20%20%20%20%20%20%20%20%20%0A%0A%20%20%20%20%20%20%20%20%0A%20%20%20%20%0A%20%20%20%20%20%20%20%20%20%20%20%20var%20tile_layer_78b1aedbd60e49bea3bf3bf61dcf4be6%20%3D%20L.tileLayer%28%0A%20%20%20%20%20%20%20%20%20%20%20%20%20%20%20%20%22https%3A//%7Bs%7D.tile.openstreetmap.org/%7Bz%7D/%7Bx%7D/%7By%7D.png%22%2C%0A%20%20%20%20%20%20%20%20%20%20%20%20%20%20%20%20%7B%22attribution%22%3A%20%22Data%20by%20%5Cu0026copy%3B%20%5Cu003ca%20href%3D%5C%22http%3A//openstreetmap.org%5C%22%5Cu003eOpenStreetMap%5Cu003c/a%5Cu003e%2C%20under%20%5Cu003ca%20href%3D%5C%22http%3A//www.openstreetmap.org/copyright%5C%22%5Cu003eODbL%5Cu003c/a%5Cu003e.%22%2C%20%22detectRetina%22%3A%20false%2C%20%22maxNativeZoom%22%3A%2018%2C%20%22maxZoom%22%3A%2018%2C%20%22minZoom%22%3A%200%2C%20%22noWrap%22%3A%20false%2C%20%22opacity%22%3A%201%2C%20%22subdomains%22%3A%20%22abc%22%2C%20%22tms%22%3A%20false%7D%0A%20%20%20%20%20%20%20%20%20%20%20%20%29.addTo%28map_5a9c69efef38418194e1bf069d47f317%29%3B%0A%20%20%20%20%20%20%20%20%0A%20%20%20%20%0A%20%20%20%20%20%20%20%20%20%20%20%20var%20marker_a7625b39f076416ba33f95c8f99f4269%20%3D%20L.marker%28%0A%20%20%20%20%20%20%20%20%20%20%20%20%20%20%20%20%5B37.497%2C%20127.0266%5D%2C%0A%20%20%20%20%20%20%20%20%20%20%20%20%20%20%20%20%7B%7D%0A%20%20%20%20%20%20%20%20%20%20%20%20%29.addTo%28map_5a9c69efef38418194e1bf069d47f317%29%3B%0A%20%20%20%20%20%20%20%20%0A%20%20%20%20%0A%20%20%20%20%20%20%20%20var%20popup_8dad34977f394a2f9907b3577a66b458%20%3D%20L.popup%28%7B%22maxWidth%22%3A%20%22100%25%22%7D%29%3B%0A%0A%20%20%20%20%20%20%20%20%0A%20%20%20%20%20%20%20%20%20%20%20%20var%20html_857c5ff7088240038e77d64c27d2792e%20%3D%20%24%28%60%3Cdiv%20id%3D%22html_857c5ff7088240038e77d64c27d2792e%22%20style%3D%22width%3A%20100.0%25%3B%20height%3A%20100.0%25%3B%22%3ESamsung%3A%2020.5%25%3C/div%3E%60%29%5B0%5D%3B%0A%20%20%20%20%20%20%20%20%20%20%20%20popup_8dad34977f394a2f9907b3577a66b458.setContent%28html_857c5ff7088240038e77d64c27d2792e%29%3B%0A%20%20%20%20%20%20%20%20%0A%0A%20%20%20%20%20%20%20%20marker_a7625b39f076416ba33f95c8f99f4269.bindPopup%28popup_8dad34977f394a2f9907b3577a66b458%29%0A%20%20%20%20%20%20%20%20%3B%0A%0A%20%20%20%20%20%20%20%20%0A%20%20%20%20%0A%20%20%20%20%0A%20%20%20%20%20%20%20%20%20%20%20%20var%20marker_321de5a5b5564ce0aa474b835a06a192%20%3D%20L.marker%28%0A%20%20%20%20%20%20%20%20%20%20%20%20%20%20%20%20%5B37.3318%2C%20-122.0311%5D%2C%0A%20%20%20%20%20%20%20%20%20%20%20%20%20%20%20%20%7B%7D%0A%20%20%20%20%20%20%20%20%20%20%20%20%29.addTo%28map_5a9c69efef38418194e1bf069d47f317%29%3B%0A%20%20%20%20%20%20%20%20%0A%20%20%20%20%0A%20%20%20%20%20%20%20%20var%20popup_31fb50dbc018482bb8e7d2e044fa5ad4%20%3D%20L.popup%28%7B%22maxWidth%22%3A%20%22100%25%22%7D%29%3B%0A%0A%20%20%20%20%20%20%20%20%0A%20%20%20%20%20%20%20%20%20%20%20%20var%20html_dc6d1a4209e34184a1d07893bf78c088%20%3D%20%24%28%60%3Cdiv%20id%3D%22html_dc6d1a4209e34184a1d07893bf78c088%22%20style%3D%22width%3A%20100.0%25%3B%20height%3A%20100.0%25%3B%22%3EApple%3A%2014.4%25%3C/div%3E%60%29%5B0%5D%3B%0A%20%20%20%20%20%20%20%20%20%20%20%20popup_31fb50dbc018482bb8e7d2e044fa5ad4.setContent%28html_dc6d1a4209e34184a1d07893bf78c088%29%3B%0A%20%20%20%20%20%20%20%20%0A%0A%20%20%20%20%20%20%20%20marker_321de5a5b5564ce0aa474b835a06a192.bindPopup%28popup_31fb50dbc018482bb8e7d2e044fa5ad4%29%0A%20%20%20%20%20%20%20%20%3B%0A%0A%20%20%20%20%20%20%20%20%0A%20%20%20%20%0A%20%20%20%20%0A%20%20%20%20%20%20%20%20%20%20%20%20var%20marker_cd46341c81794a1cbc88e145e18f05d6%20%3D%20L.marker%28%0A%20%20%20%20%20%20%20%20%20%20%20%20%20%20%20%20%5B22.5431%2C%20114.0579%5D%2C%0A%20%20%20%20%20%20%20%20%20%20%20%20%20%20%20%20%7B%7D%0A%20%20%20%20%20%20%20%20%20%20%20%20%29.addTo%28map_5a9c69efef38418194e1bf069d47f317%29%3B%0A%20%20%20%20%20%20%20%20%0A%20%20%20%20%0A%20%20%20%20%20%20%20%20var%20popup_7832d5f7b275484b8b9bc3b77bb6e2cf%20%3D%20L.popup%28%7B%22maxWidth%22%3A%20%22100%25%22%7D%29%3B%0A%0A%20%20%20%20%20%20%20%20%0A%20%20%20%20%20%20%20%20%20%20%20%20var%20html_9069202c767a4bc186689e231b48f8f9%20%3D%20%24%28%60%3Cdiv%20id%3D%22html_9069202c767a4bc186689e231b48f8f9%22%20style%3D%22width%3A%20100.0%25%3B%20height%3A%20100.0%25%3B%22%3EHuawei%3A%208.9%25%3C/div%3E%60%29%5B0%5D%3B%0A%20%20%20%20%20%20%20%20%20%20%20%20popup_7832d5f7b275484b8b9bc3b77bb6e2cf.setContent%28html_9069202c767a4bc186689e231b48f8f9%29%3B%0A%20%20%20%20%20%20%20%20%0A%0A%20%20%20%20%20%20%20%20marker_cd46341c81794a1cbc88e145e18f05d6.bindPopup%28popup_7832d5f7b275484b8b9bc3b77bb6e2cf%29%0A%20%20%20%20%20%20%20%20%3B%0A%0A%20%20%20%20%20%20%20%20%0A%20%20%20%20%0A%3C/script%3E onload=\"this.contentDocument.open();this.contentDocument.write(    decodeURIComponent(this.getAttribute('data-html')));this.contentDocument.close();\" allowfullscreen webkitallowfullscreen mozallowfullscreen></iframe></div></div>"
      ],
      "text/plain": [
       "<folium.folium.Map at 0x1d93f876130>"
      ]
     },
     "execution_count": 1,
     "metadata": {},
     "output_type": "execute_result"
    }
   ],
   "source": [
    "# Making a map using the folium module\n",
    "import folium\n",
    "phone_map = folium.Map()\n",
    "\n",
    "# Top three smart phone companies by market share in 2016\n",
    "companies = [\n",
    "    {'loc': [37.4970,  127.0266], 'label': 'Samsung: 20.5%'},\n",
    "    {'loc': [37.3318, -122.0311], 'label': 'Apple: 14.4%'},\n",
    "    {'loc': [22.5431,  114.0579], 'label': 'Huawei: 8.9%'}] \n",
    "\n",
    "# Adding markers to the map\n",
    "for company in companies:\n",
    "    marker = folium.Marker(location=company['loc'], popup=company['label'])\n",
    "    marker.add_to(phone_map)\n",
    "\n",
    "# The last object in the cell always gets shown in the notebook\n",
    "phone_map"
   ]
  }
 ],
 "metadata": {
  "kernelspec": {
   "display_name": "Python 3",
   "language": "python",
   "name": "python3"
  },
  "language_info": {
   "codemirror_mode": {
    "name": "ipython",
    "version": 3
   },
   "file_extension": ".py",
   "mimetype": "text/x-python",
   "name": "python",
   "nbconvert_exporter": "python",
   "pygments_lexer": "ipython3",
   "version": "3.8.8"
  }
 },
 "nbformat": 4,
 "nbformat_minor": 5
}
